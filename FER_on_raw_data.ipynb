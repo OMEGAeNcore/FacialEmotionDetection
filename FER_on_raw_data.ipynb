{
  "nbformat": 4,
  "nbformat_minor": 0,
  "metadata": {
    "colab": {
      "name": "FER with sampling technique.ipynb",
      "provenance": [],
      "collapsed_sections": [],
      "authorship_tag": "ABX9TyNtMpz5fdQ+okyQnvcVUInd",
      "include_colab_link": true
    },
    "kernelspec": {
      "name": "python3",
      "display_name": "Python 3"
    },
    "language_info": {
      "name": "python"
    },
    "accelerator": "GPU"
  },
  "cells": [
    {
      "cell_type": "markdown",
      "metadata": {
        "id": "view-in-github",
        "colab_type": "text"
      },
      "source": [
        "<a href=\"https://colab.research.google.com/github/OMEGAeNcore/FacialEmotionDetection/blob/main/FER_on_raw_data.ipynb\" target=\"_parent\"><img src=\"https://colab.research.google.com/assets/colab-badge.svg\" alt=\"Open In Colab\"/></a>"
      ]
    },
    {
      "cell_type": "markdown",
      "metadata": {
        "id": "XlbN6JM1cuNS"
      },
      "source": [
        "## Import Packages\n",
        "\n",
        "We will install and import the required packages for this project. We are going to use pandas, numpy, tensorflow and opencv related packages for data processing and creating our CNN model."
      ]
    },
    {
      "cell_type": "code",
      "metadata": {
        "colab": {
          "base_uri": "https://localhost:8080/"
        },
        "id": "k4wUIUpDLnXS",
        "outputId": "db6b602a-86bf-4a68-cfb4-1b1118da95c8"
      },
      "source": [
        "!pip install scikit-plot"
      ],
      "execution_count": null,
      "outputs": [
        {
          "output_type": "stream",
          "text": [
            "Collecting scikit-plot\n",
            "  Downloading https://files.pythonhosted.org/packages/7c/47/32520e259340c140a4ad27c1b97050dd3254fdc517b1d59974d47037510e/scikit_plot-0.3.7-py3-none-any.whl\n",
            "Requirement already satisfied: matplotlib>=1.4.0 in /usr/local/lib/python3.7/dist-packages (from scikit-plot) (3.2.2)\n",
            "Requirement already satisfied: scipy>=0.9 in /usr/local/lib/python3.7/dist-packages (from scikit-plot) (1.4.1)\n",
            "Requirement already satisfied: joblib>=0.10 in /usr/local/lib/python3.7/dist-packages (from scikit-plot) (1.0.1)\n",
            "Requirement already satisfied: scikit-learn>=0.18 in /usr/local/lib/python3.7/dist-packages (from scikit-plot) (0.22.2.post1)\n",
            "Requirement already satisfied: python-dateutil>=2.1 in /usr/local/lib/python3.7/dist-packages (from matplotlib>=1.4.0->scikit-plot) (2.8.1)\n",
            "Requirement already satisfied: cycler>=0.10 in /usr/local/lib/python3.7/dist-packages (from matplotlib>=1.4.0->scikit-plot) (0.10.0)\n",
            "Requirement already satisfied: kiwisolver>=1.0.1 in /usr/local/lib/python3.7/dist-packages (from matplotlib>=1.4.0->scikit-plot) (1.3.1)\n",
            "Requirement already satisfied: pyparsing!=2.0.4,!=2.1.2,!=2.1.6,>=2.0.1 in /usr/local/lib/python3.7/dist-packages (from matplotlib>=1.4.0->scikit-plot) (2.4.7)\n",
            "Requirement already satisfied: numpy>=1.11 in /usr/local/lib/python3.7/dist-packages (from matplotlib>=1.4.0->scikit-plot) (1.19.5)\n",
            "Requirement already satisfied: six>=1.5 in /usr/local/lib/python3.7/dist-packages (from python-dateutil>=2.1->matplotlib>=1.4.0->scikit-plot) (1.15.0)\n",
            "Installing collected packages: scikit-plot\n",
            "Successfully installed scikit-plot-0.3.7\n"
          ],
          "name": "stdout"
        }
      ]
    },
    {
      "cell_type": "code",
      "metadata": {
        "id": "2QypKzLxLtLs"
      },
      "source": [
        "# Importing required modules\n",
        "\n",
        "# Pre-processing\n",
        "import math\n",
        "import numpy as np\n",
        "import pandas as pd\n",
        "from matplotlib import pyplot as plt\n",
        "from PIL import Image as im\n",
        "from PIL import ImageEnhance, ImageFilter\n",
        "\n",
        "# Pre-processing for prediction images\n",
        "import cv2\n",
        "from google.colab.patches import cv2_imshow\n",
        "\n",
        "# Data spliting\n",
        "from sklearn.model_selection import train_test_split\n",
        "\n",
        "# Model related\n",
        "import tensorflow as tf\n",
        "from tensorflow.keras.preprocessing.image import ImageDataGenerator\n",
        "from tensorflow.keras.models import Sequential, Model\n",
        "\n",
        "from tensorflow.keras.layers import Conv2D, MaxPooling2D, \\\n",
        "Dense, Dropout, BatchNormalization, \\\n",
        "Activation, Flatten, Input, ZeroPadding2D, Add, AveragePooling2D\n",
        "\n",
        "from tensorflow.keras.optimizers import Adam\n",
        "\n",
        "from tensorflow.keras.callbacks import ReduceLROnPlateau, EarlyStopping, \\\n",
        "TensorBoard, ModelCheckpoint\n",
        "\n",
        "from tensorflow.keras.regularizers import l2\n",
        "from tensorflow.keras.initializers import glorot_uniform\n",
        "\n",
        "# For ploting Confusion Matrix and displaying image\n",
        "import scikitplot\n",
        "from sklearn.metrics import classification_report\n",
        "\n",
        "# Loading model saved earlier\n",
        "from tensorflow.keras.models import model_from_json\n",
        "\n",
        "# Lethal's import\n",
        "import skimage as si\n",
        "from skimage import filters"
      ],
      "execution_count": null,
      "outputs": []
    },
    {
      "cell_type": "markdown",
      "metadata": {
        "id": "j18EssJ-czFQ"
      },
      "source": [
        "## Dataset and Features\n",
        "\n",
        "We are going to use FER2013 dataset provided by [Kaggle website](https://www.kaggle.com/c/challenges-in-representation-learning-facial-expression-recognition-challenge/data), which consists of about 37,000 well structured 48 × 48 pixel gray-scale images of faces. The images are processed in such a way that the faces\n",
        "are almost centered and each face occupies about the\n",
        "same amount of space in each image. Each image has\n",
        "to be categorized into one of the seven classes that\n",
        "express different facial emotions. These facial emotions have been categorized as: 0=Angry, 1=Disgust,\n",
        "2=Fear, 3=Happy, 4=Sad, 5=Surprise, and 6=Neutral."
      ]
    },
    {
      "cell_type": "code",
      "metadata": {
        "colab": {
          "base_uri": "https://localhost:8080/",
          "height": 229
        },
        "id": "W2bAlKp2MFKz",
        "outputId": "3cdde2e3-7859-4f73-83c4-5e6613c5f835"
      },
      "source": [
        "# Mount Google Drive\n",
        "from google.colab import drive\n",
        "drive.mount('/content/drive')\n",
        "DRIVE_PATH = '/content/drive'\n",
        "\n",
        "# Path to project folder on Google drive\n",
        "PROJECT_PATH = '/MyDrive/FINAL YEAR PROJECT'\n",
        "\n",
        "# Read data from csv file\n",
        "df = pd.read_csv(DRIVE_PATH + PROJECT_PATH +'/input/fer2013.csv')\n",
        "\n",
        "# Analyzing some initial data properties\n",
        "print(df.shape)\n",
        "df.tail()"
      ],
      "execution_count": null,
      "outputs": [
        {
          "output_type": "stream",
          "text": [
            "Mounted at /content/drive\n",
            "(35887, 3)\n"
          ],
          "name": "stdout"
        },
        {
          "output_type": "execute_result",
          "data": {
            "text/html": [
              "<div>\n",
              "<style scoped>\n",
              "    .dataframe tbody tr th:only-of-type {\n",
              "        vertical-align: middle;\n",
              "    }\n",
              "\n",
              "    .dataframe tbody tr th {\n",
              "        vertical-align: top;\n",
              "    }\n",
              "\n",
              "    .dataframe thead th {\n",
              "        text-align: right;\n",
              "    }\n",
              "</style>\n",
              "<table border=\"1\" class=\"dataframe\">\n",
              "  <thead>\n",
              "    <tr style=\"text-align: right;\">\n",
              "      <th></th>\n",
              "      <th>emotion</th>\n",
              "      <th>pixels</th>\n",
              "      <th>Usage</th>\n",
              "    </tr>\n",
              "  </thead>\n",
              "  <tbody>\n",
              "    <tr>\n",
              "      <th>35882</th>\n",
              "      <td>6</td>\n",
              "      <td>50 36 17 22 23 29 33 39 34 37 37 37 39 43 48 5...</td>\n",
              "      <td>PrivateTest</td>\n",
              "    </tr>\n",
              "    <tr>\n",
              "      <th>35883</th>\n",
              "      <td>3</td>\n",
              "      <td>178 174 172 173 181 188 191 194 196 199 200 20...</td>\n",
              "      <td>PrivateTest</td>\n",
              "    </tr>\n",
              "    <tr>\n",
              "      <th>35884</th>\n",
              "      <td>0</td>\n",
              "      <td>17 17 16 23 28 22 19 17 25 26 20 24 31 19 27 9...</td>\n",
              "      <td>PrivateTest</td>\n",
              "    </tr>\n",
              "    <tr>\n",
              "      <th>35885</th>\n",
              "      <td>3</td>\n",
              "      <td>30 28 28 29 31 30 42 68 79 81 77 67 67 71 63 6...</td>\n",
              "      <td>PrivateTest</td>\n",
              "    </tr>\n",
              "    <tr>\n",
              "      <th>35886</th>\n",
              "      <td>2</td>\n",
              "      <td>19 13 14 12 13 16 21 33 50 57 71 84 97 108 122...</td>\n",
              "      <td>PrivateTest</td>\n",
              "    </tr>\n",
              "  </tbody>\n",
              "</table>\n",
              "</div>"
            ],
            "text/plain": [
              "       emotion                                             pixels        Usage\n",
              "35882        6  50 36 17 22 23 29 33 39 34 37 37 37 39 43 48 5...  PrivateTest\n",
              "35883        3  178 174 172 173 181 188 191 194 196 199 200 20...  PrivateTest\n",
              "35884        0  17 17 16 23 28 22 19 17 25 26 20 24 31 19 27 9...  PrivateTest\n",
              "35885        3  30 28 28 29 31 30 42 68 79 81 77 67 67 71 63 6...  PrivateTest\n",
              "35886        2  19 13 14 12 13 16 21 33 50 57 71 84 97 108 122...  PrivateTest"
            ]
          },
          "metadata": {
            "tags": []
          },
          "execution_count": 3
        }
      ]
    },
    {
      "cell_type": "code",
      "metadata": {
        "colab": {
          "base_uri": "https://localhost:8080/",
          "height": 195
        },
        "id": "AlDa4fyRMHlr",
        "outputId": "3ed574a3-346f-49ab-e6b2-a3a10de2cbcc"
      },
      "source": [
        "df.drop(columns='Usage', inplace=True)\n",
        "df.tail()"
      ],
      "execution_count": null,
      "outputs": [
        {
          "output_type": "execute_result",
          "data": {
            "text/html": [
              "<div>\n",
              "<style scoped>\n",
              "    .dataframe tbody tr th:only-of-type {\n",
              "        vertical-align: middle;\n",
              "    }\n",
              "\n",
              "    .dataframe tbody tr th {\n",
              "        vertical-align: top;\n",
              "    }\n",
              "\n",
              "    .dataframe thead th {\n",
              "        text-align: right;\n",
              "    }\n",
              "</style>\n",
              "<table border=\"1\" class=\"dataframe\">\n",
              "  <thead>\n",
              "    <tr style=\"text-align: right;\">\n",
              "      <th></th>\n",
              "      <th>emotion</th>\n",
              "      <th>pixels</th>\n",
              "    </tr>\n",
              "  </thead>\n",
              "  <tbody>\n",
              "    <tr>\n",
              "      <th>35882</th>\n",
              "      <td>6</td>\n",
              "      <td>50 36 17 22 23 29 33 39 34 37 37 37 39 43 48 5...</td>\n",
              "    </tr>\n",
              "    <tr>\n",
              "      <th>35883</th>\n",
              "      <td>3</td>\n",
              "      <td>178 174 172 173 181 188 191 194 196 199 200 20...</td>\n",
              "    </tr>\n",
              "    <tr>\n",
              "      <th>35884</th>\n",
              "      <td>0</td>\n",
              "      <td>17 17 16 23 28 22 19 17 25 26 20 24 31 19 27 9...</td>\n",
              "    </tr>\n",
              "    <tr>\n",
              "      <th>35885</th>\n",
              "      <td>3</td>\n",
              "      <td>30 28 28 29 31 30 42 68 79 81 77 67 67 71 63 6...</td>\n",
              "    </tr>\n",
              "    <tr>\n",
              "      <th>35886</th>\n",
              "      <td>2</td>\n",
              "      <td>19 13 14 12 13 16 21 33 50 57 71 84 97 108 122...</td>\n",
              "    </tr>\n",
              "  </tbody>\n",
              "</table>\n",
              "</div>"
            ],
            "text/plain": [
              "       emotion                                             pixels\n",
              "35882        6  50 36 17 22 23 29 33 39 34 37 37 37 39 43 48 5...\n",
              "35883        3  178 174 172 173 181 188 191 194 196 199 200 20...\n",
              "35884        0  17 17 16 23 28 22 19 17 25 26 20 24 31 19 27 9...\n",
              "35885        3  30 28 28 29 31 30 42 68 79 81 77 67 67 71 63 6...\n",
              "35886        2  19 13 14 12 13 16 21 33 50 57 71 84 97 108 122..."
            ]
          },
          "metadata": {
            "tags": []
          },
          "execution_count": 4
        }
      ]
    },
    {
      "cell_type": "code",
      "metadata": {
        "colab": {
          "base_uri": "https://localhost:8080/"
        },
        "id": "49fgKJyjeLLc",
        "outputId": "42dc7627-5387-4764-d6c7-d89f6d06beab"
      },
      "source": [
        "df.emotion.value_counts()"
      ],
      "execution_count": null,
      "outputs": [
        {
          "output_type": "execute_result",
          "data": {
            "text/plain": [
              "3    8989\n",
              "6    6198\n",
              "4    6077\n",
              "2    5121\n",
              "0    4953\n",
              "5    4002\n",
              "1     547\n",
              "Name: emotion, dtype: int64"
            ]
          },
          "metadata": {
            "tags": []
          },
          "execution_count": 75
        }
      ]
    },
    {
      "cell_type": "code",
      "metadata": {
        "id": "FaZkaepaMPqA"
      },
      "source": [
        "# Initializing global variables\n",
        "num_features = 64\n",
        "num_labels = 7\n",
        "batch_size = 128\n",
        "epochs = 100\n",
        "width, height = 48, 48"
      ],
      "execution_count": null,
      "outputs": []
    },
    {
      "cell_type": "code",
      "metadata": {
        "id": "HCQQ8M-DQypG"
      },
      "source": [
        "# def augment(data, num_augs = 4):\n",
        "#   images = []\n",
        "#   labels = []\n",
        "#   for id, row in data.iterrows():\n",
        "#     face = [int(pixel) for pixel in row.pixels.split(' ')]\n",
        "#     face = np.asarray(face).reshape(width, height).astype('float32')\n",
        "#     face = np.expand_dims(face, axis = -1)\n",
        "\n",
        "#     for i in range(num_augs):\n",
        "#       im = face\n",
        "#       #rotate\n",
        "#       if(np.random.uniform() < 0.3):\n",
        "#         angle = np.random.uniform(-1, 1) * 90\n",
        "#         im = si.transform.rotate(im, angle)\n",
        "\n",
        "#       #flip \n",
        "#       if(np.random.uniform() < 0.3):\n",
        "#         im = im[::-1,:,:]        \n",
        "#       if(np.random.uniform() < 0.3):\n",
        "#         im = im[:,::-1,:]\n",
        "\n",
        "#       #blur\n",
        "#       if(np.random.uniform() < 0.8):\n",
        "#         im = filters.gaussian(im, sigma = np.random.uniform(0,1.5)) \n",
        "\n",
        "#       #noise\n",
        "#       if(np.random.uniform() < 0.3):\n",
        "#         noise = np.random.binomial(n=2, p = np.random.uniform(0.3, 0.9), size = im.shape)\n",
        "#         im = np.multiply(im, noise)\n",
        "\n",
        "#       images.append(im)\n",
        "#       labels.append(np.identity(7)[row.emotion])\n",
        "\n",
        "#   return np.array(images), np.array(labels)"
      ],
      "execution_count": null,
      "outputs": []
    },
    {
      "cell_type": "code",
      "metadata": {
        "id": "wFN8UItbQ72c"
      },
      "source": [
        "# def sample(data, sample_size = 128, num_augs = 4, class_column = 'emotion', steps_per_epoch = 10, epoch = 100):    \n",
        "#   sample_size = int(sample_size/num_augs)\n",
        "#   class_freq = data.groupby(class_column).size()\n",
        "#   class_weights = 1/class_freq\n",
        "#   weight_column = class_weights[data[class_column]]\n",
        "#   weight_column = weight_column.reset_index(drop = True)\n",
        "#   data['weights'] = weight_column\n",
        "  \n",
        "#   for iter in range(steps_per_epoch * epoch):\n",
        "#     _sample = data.sample(sample_size, weights = 'weights')  \n",
        "#     yield augment(_sample, num_augs = num_augs)"
      ],
      "execution_count": null,
      "outputs": []
    },
    {
      "cell_type": "code",
      "metadata": {
        "colab": {
          "base_uri": "https://localhost:8080/",
          "height": 195
        },
        "id": "DRBKGwZ9u-LL",
        "outputId": "c91510f7-687d-4e1f-d29f-e3031df73ec1"
      },
      "source": [
        "df = df.sample(frac=1)\n",
        "df.head()"
      ],
      "execution_count": null,
      "outputs": [
        {
          "output_type": "execute_result",
          "data": {
            "text/html": [
              "<div>\n",
              "<style scoped>\n",
              "    .dataframe tbody tr th:only-of-type {\n",
              "        vertical-align: middle;\n",
              "    }\n",
              "\n",
              "    .dataframe tbody tr th {\n",
              "        vertical-align: top;\n",
              "    }\n",
              "\n",
              "    .dataframe thead th {\n",
              "        text-align: right;\n",
              "    }\n",
              "</style>\n",
              "<table border=\"1\" class=\"dataframe\">\n",
              "  <thead>\n",
              "    <tr style=\"text-align: right;\">\n",
              "      <th></th>\n",
              "      <th>emotion</th>\n",
              "      <th>pixels</th>\n",
              "    </tr>\n",
              "  </thead>\n",
              "  <tbody>\n",
              "    <tr>\n",
              "      <th>3743</th>\n",
              "      <td>3</td>\n",
              "      <td>78 81 82 82 80 77 75 74 78 57 39 36 36 42 51 7...</td>\n",
              "    </tr>\n",
              "    <tr>\n",
              "      <th>23064</th>\n",
              "      <td>3</td>\n",
              "      <td>34 33 28 25 25 26 26 25 26 27 28 37 51 70 94 1...</td>\n",
              "    </tr>\n",
              "    <tr>\n",
              "      <th>24010</th>\n",
              "      <td>2</td>\n",
              "      <td>255 255 255 255 255 253 254 109 14 22 13 7 6 5...</td>\n",
              "    </tr>\n",
              "    <tr>\n",
              "      <th>20043</th>\n",
              "      <td>3</td>\n",
              "      <td>194 206 208 208 210 211 213 213 214 216 215 21...</td>\n",
              "    </tr>\n",
              "    <tr>\n",
              "      <th>9215</th>\n",
              "      <td>6</td>\n",
              "      <td>66 61 54 59 71 61 60 49 34 52 86 69 61 85 112 ...</td>\n",
              "    </tr>\n",
              "  </tbody>\n",
              "</table>\n",
              "</div>"
            ],
            "text/plain": [
              "       emotion                                             pixels\n",
              "3743         3  78 81 82 82 80 77 75 74 78 57 39 36 36 42 51 7...\n",
              "23064        3  34 33 28 25 25 26 26 25 26 27 28 37 51 70 94 1...\n",
              "24010        2  255 255 255 255 255 253 254 109 14 22 13 7 6 5...\n",
              "20043        3  194 206 208 208 210 211 213 213 214 216 215 21...\n",
              "9215         6  66 61 54 59 71 61 60 49 34 52 86 69 61 85 112 ..."
            ]
          },
          "metadata": {
            "tags": []
          },
          "execution_count": 6
        }
      ]
    },
    {
      "cell_type": "code",
      "metadata": {
        "id": "Jjj7N7IDvS4t"
      },
      "source": [
        "# df_1 = df.sample(frac=0.9)\n",
        "# df_2 = df.drop(df_1.index)\n",
        "# print(df_1.shape)\n",
        "# print(df_2.shape)"
      ],
      "execution_count": null,
      "outputs": []
    },
    {
      "cell_type": "markdown",
      "metadata": {
        "id": "G5GNKgqpc74z"
      },
      "source": [
        "### Data processing and augmentation\n",
        "\n",
        "In addition to the image class number (a\n",
        "number between 0 and 6), the given images are divided\n",
        "into three different sets which are training, validation,\n",
        "and test sets. We split the data using *train_test_split()* function for spliting into training, validation and testing dataset. We have our image data in pixel array format, which is a string. We convert the string of pixels into  **float32** numpy arrays."
      ]
    },
    {
      "cell_type": "code",
      "metadata": {
        "colab": {
          "base_uri": "https://localhost:8080/",
          "height": 195
        },
        "id": "O6zUoHVJMSXh",
        "outputId": "12173122-0170-4bc1-b88a-357e2dca44bd"
      },
      "source": [
        "data_from_df_dictmode = {}\n",
        "\n",
        "def dictionary_data():\n",
        "    for index, row in df.iterrows():\n",
        "        face = [int(pixel) for pixel in row.pixels.split(' ')]\n",
        "        face = np.asarray(face).reshape(width, height).astype('float32')\n",
        "        row.pixels = face\n",
        "        data_from_df_dictmode[index] = row\n",
        "\n",
        "dictionary_data()\n",
        "data_from_df = pd.DataFrame.from_dict(data_from_df_dictmode, orient='index')\n",
        "data_from_df.tail()"
      ],
      "execution_count": null,
      "outputs": [
        {
          "output_type": "execute_result",
          "data": {
            "text/html": [
              "<div>\n",
              "<style scoped>\n",
              "    .dataframe tbody tr th:only-of-type {\n",
              "        vertical-align: middle;\n",
              "    }\n",
              "\n",
              "    .dataframe tbody tr th {\n",
              "        vertical-align: top;\n",
              "    }\n",
              "\n",
              "    .dataframe thead th {\n",
              "        text-align: right;\n",
              "    }\n",
              "</style>\n",
              "<table border=\"1\" class=\"dataframe\">\n",
              "  <thead>\n",
              "    <tr style=\"text-align: right;\">\n",
              "      <th></th>\n",
              "      <th>emotion</th>\n",
              "      <th>pixels</th>\n",
              "    </tr>\n",
              "  </thead>\n",
              "  <tbody>\n",
              "    <tr>\n",
              "      <th>35882</th>\n",
              "      <td>6</td>\n",
              "      <td>[[50.0, 36.0, 17.0, 22.0, 23.0, 29.0, 33.0, 39...</td>\n",
              "    </tr>\n",
              "    <tr>\n",
              "      <th>35883</th>\n",
              "      <td>3</td>\n",
              "      <td>[[178.0, 174.0, 172.0, 173.0, 181.0, 188.0, 19...</td>\n",
              "    </tr>\n",
              "    <tr>\n",
              "      <th>35884</th>\n",
              "      <td>0</td>\n",
              "      <td>[[17.0, 17.0, 16.0, 23.0, 28.0, 22.0, 19.0, 17...</td>\n",
              "    </tr>\n",
              "    <tr>\n",
              "      <th>35885</th>\n",
              "      <td>3</td>\n",
              "      <td>[[30.0, 28.0, 28.0, 29.0, 31.0, 30.0, 42.0, 68...</td>\n",
              "    </tr>\n",
              "    <tr>\n",
              "      <th>35886</th>\n",
              "      <td>2</td>\n",
              "      <td>[[19.0, 13.0, 14.0, 12.0, 13.0, 16.0, 21.0, 33...</td>\n",
              "    </tr>\n",
              "  </tbody>\n",
              "</table>\n",
              "</div>"
            ],
            "text/plain": [
              "       emotion                                             pixels\n",
              "35882        6  [[50.0, 36.0, 17.0, 22.0, 23.0, 29.0, 33.0, 39...\n",
              "35883        3  [[178.0, 174.0, 172.0, 173.0, 181.0, 188.0, 19...\n",
              "35884        0  [[17.0, 17.0, 16.0, 23.0, 28.0, 22.0, 19.0, 17...\n",
              "35885        3  [[30.0, 28.0, 28.0, 29.0, 31.0, 30.0, 42.0, 68...\n",
              "35886        2  [[19.0, 13.0, 14.0, 12.0, 13.0, 16.0, 21.0, 33..."
            ]
          },
          "metadata": {
            "tags": []
          },
          "execution_count": 6
        }
      ]
    },
    {
      "cell_type": "code",
      "metadata": {
        "id": "UR9FZGsyMUeC"
      },
      "source": [
        "# import random\n",
        "# def data_augment_func(pixel):\n",
        "#     augment = []\n",
        "#     augment_ch = range(1,6)\n",
        "    \n",
        "#     data = im.fromarray(pixel).convert('L')\n",
        "#     flip_top_down = data.transpose(method=im.FLIP_TOP_BOTTOM)\n",
        "#     flip_left_right = data.transpose(method=im.FLIP_LEFT_RIGHT)\n",
        "\n",
        "#     augment.append(data)\n",
        "#     augment.append(flip_top_down)\n",
        "#     augment.append(flip_left_right)\n",
        "\n",
        "#     elemental = []\n",
        "#     for i in range(3):\n",
        "#         ch = random.choices(augment_ch, k=3)\n",
        "#         for c in ch:\n",
        "#             if c == 1:\n",
        "#                 elemental.append(augment[i].rotate(random.choice(range(1,359))))\n",
        "#             elif c == 2:\n",
        "#                 elemental.append(ImageEnhance.Sharpness(augment[i]).enhance(5))\n",
        "#             elif c == 3:\n",
        "#                 elemental.append(augment[i].filter(ImageFilter.GaussianBlur(1.5)))\n",
        "#             elif c == 4:\n",
        "#                 elemental.append(ImageEnhance.Brightness(augment[i]).enhance(2))\n",
        "#             elif c == 5:\n",
        "#                 elemental.append(ImageEnhance.Contrast(augment[i]).enhance(3))\n",
        "    \n",
        "#     augment[1] = np.array(augment[1])\n",
        "#     augment[2] = np.array(augment[2])\n",
        "\n",
        "#     for i in range(len(elemental)):\n",
        "#         augment.append(np.array(elemental[i]))\n",
        "\n",
        "#     del augment[0]\n",
        "#     return augment"
      ],
      "execution_count": null,
      "outputs": []
    },
    {
      "cell_type": "code",
      "metadata": {
        "id": "JpTXEtwFMXai"
      },
      "source": [
        "# \"\"\"\n",
        "#     Create a function to augment data of type 'disgust'\n",
        "#     == Convert to image\n",
        "#     == perform shift, noise, blur, flips, rotate\n",
        "#     == check and convert to np array\n",
        "#     == append to the branch array with same label; along with the original image array\n",
        "# \"\"\"\n",
        "# modified_key1_data = {}\n",
        "# counter = 35887\n",
        "# def get_image_for_augmentation():\n",
        "#     global counter\n",
        "#     for key, row in data_from_df.iterrows():\n",
        "#         pixel_da = []\n",
        "#         if row.emotion == 1:\n",
        "#             # Return augmented data in some format\n",
        "#             pixel_da = data_augment_func(row.pixels)\n",
        "\n",
        "#             # Iterate through the augmented data which will be added later to the main dataframe [ keeping shape and size similar to original image data ]\n",
        "#             for op in pixel_da:\n",
        "#                 test = {}\n",
        "#                 test['emotion'] = 1\n",
        "#                 test['pixels'] = op\n",
        "#                 # Append it as a key value pair\n",
        "#                 modified_key1_data[counter] = test\n",
        "#                 counter += 1\n",
        "\n",
        "# get_image_for_augmentation()\n",
        "# md = pd.DataFrame.from_dict(modified_key1_data, orient='index')\n",
        "# md"
      ],
      "execution_count": null,
      "outputs": []
    },
    {
      "cell_type": "code",
      "metadata": {
        "id": "0FZRM7jzZf3Q"
      },
      "source": [
        "# for index, row in md.iterrows():\n",
        "#     if index == 36000:\n",
        "#         break\n",
        "#     cv2_imshow(row.pixels)"
      ],
      "execution_count": null,
      "outputs": []
    },
    {
      "cell_type": "code",
      "metadata": {
        "id": "7WdHZEbxMbTx"
      },
      "source": [
        "# # Append modified_key1_data to main data\n",
        "# tst_df = data_from_df.append(md, ignore_index=True)\n",
        "# print(tst_df.tail())\n",
        "# # Shuffle data according to index of the modified dataframe\n",
        "# tst_df = tst_df.sample(frac=1)\n",
        "# print(tst_df.tail())\n",
        "\n",
        "# tst_df.shape"
      ],
      "execution_count": null,
      "outputs": []
    },
    {
      "cell_type": "code",
      "metadata": {
        "id": "WccC4onyMedB"
      },
      "source": [
        "# pixels_ar = tst_df['pixels'].tolist()\n",
        "pixels_ar = data_from_df['pixels'].tolist()\n",
        "faces = np.asarray(pixels_ar)\n",
        "faces = np.expand_dims(faces, axis=-1)"
      ],
      "execution_count": null,
      "outputs": []
    },
    {
      "cell_type": "code",
      "metadata": {
        "id": "xFPBuGFYMhTT"
      },
      "source": [
        "# Saving emotions of the images as a matrix, i.e. each image has a row of \n",
        "# different emotions, but only the marked(1) emotion is represented by the image\n",
        "# emotions = pd.get_dummies(tst_df['emotion']).values\n",
        "emotions = pd.get_dummies(data_from_df['emotion']).values"
      ],
      "execution_count": null,
      "outputs": []
    },
    {
      "cell_type": "code",
      "metadata": {
        "id": "w3s_o91qMkM7"
      },
      "source": [
        "x = faces.copy()\n",
        "y = emotions.copy()"
      ],
      "execution_count": null,
      "outputs": []
    },
    {
      "cell_type": "code",
      "metadata": {
        "colab": {
          "base_uri": "https://localhost:8080/"
        },
        "id": "RgNVn7MlMmAS",
        "outputId": "c5727c0f-08e8-451b-be36-4bc84095e3e3"
      },
      "source": [
        "# Splitting into training and test dataset (shuffle to randomize)\n",
        "X_train, X_test, y_train, y_test = train_test_split(\n",
        "    x, \n",
        "    y, \n",
        "    test_size=0.1, \n",
        "    random_state=42\n",
        "    )\n",
        "\n",
        "\n",
        "X_train, X_valid, y_train, y_valid = train_test_split(\n",
        "    X_train, \n",
        "    y_train, \n",
        "    test_size=0.1, \n",
        "    random_state=41\n",
        "    )\n",
        "\n",
        "print(X_train.shape, y_train.shape)\n",
        "print(X_test.shape, y_test.shape)\n",
        "print(X_valid.shape, y_valid.shape)"
      ],
      "execution_count": null,
      "outputs": [
        {
          "output_type": "stream",
          "text": [
            "(29068, 48, 48, 1) (29068, 7)\n",
            "(3589, 48, 48, 1) (3589, 7)\n",
            "(3230, 48, 48, 1) (3230, 7)\n"
          ],
          "name": "stdout"
        }
      ]
    },
    {
      "cell_type": "markdown",
      "metadata": {
        "id": "xZygWE8sdDXo"
      },
      "source": [
        "## Experiments\n",
        "\n",
        "We have created a model using 4 Convolutional layers and 2 Fully Connected layers."
      ]
    },
    {
      "cell_type": "code",
      "metadata": {
        "id": "SAalQDXoWE9_",
        "colab": {
          "base_uri": "https://localhost:8080/"
        },
        "outputId": "b3650542-b1d4-4a84-fa04-0c1cd7efe61c"
      },
      "source": [
        "model = Sequential()\n",
        "\n",
        "model.add(Conv2D(64, (3, 3), padding='same', input_shape=(48,48,1), kernel_initializer=glorot_uniform))\n",
        "model.add(BatchNormalization())\n",
        "model.add(Activation('relu'))\n",
        "model.add(MaxPooling2D(pool_size=(2, 2), strides=None, padding='valid'))\n",
        "model.add(Dropout(0.25))\n",
        "# model.add(Dropout(0.4))\n",
        "\n",
        "model.add(Conv2D(128, (5,5), padding='same', kernel_initializer=glorot_uniform))\n",
        "model.add(BatchNormalization())\n",
        "model.add(Activation('relu'))\n",
        "model.add(MaxPooling2D(pool_size=(2, 2), strides=None, padding='valid'))\n",
        "# model.add(Dropout(0.4))\n",
        "model.add(Dropout(0.25))\n",
        "\n",
        "model.add(Conv2D(512, (3,3), padding='same', kernel_initializer=glorot_uniform))\n",
        "model.add(BatchNormalization())\n",
        "model.add(Activation('relu'))\n",
        "model.add(MaxPooling2D(pool_size=(2, 2), strides=None, padding='valid'))\n",
        "model.add(Dropout(0.25))\n",
        "\n",
        "model.add(Conv2D(512, (3,3), padding='same', kernel_initializer=glorot_uniform))\n",
        "model.add(BatchNormalization())\n",
        "model.add(Activation('relu'))\n",
        "model.add(MaxPooling2D(pool_size=(2, 2), strides=None, padding='valid'))\n",
        "model.add(Dropout(0.25))\n",
        "\n",
        "model.add(Flatten())\n",
        "\n",
        "model.add(Dense(256, activation='linear', kernel_initializer=glorot_uniform))\n",
        "model.add(BatchNormalization())\n",
        "model.add(Activation('relu'))\n",
        "# model.add(Dropout(0.4))\n",
        "model.add(Dropout(0.25))\n",
        "\n",
        "model.add(Dense(512, activation='linear', kernel_initializer=glorot_uniform))\n",
        "model.add(BatchNormalization())\n",
        "model.add(Activation('relu'))\n",
        "# model.add(Dropout(0.5))\n",
        "model.add(Dropout(0.25))\n",
        "\n",
        "model.add(Dense(7, activation='softmax', kernel_initializer=glorot_uniform))\n",
        "# model.add(BatchNormalization())\n",
        "# model.add(Activation('softmax'))\n",
        "\n",
        "model.summary()"
      ],
      "execution_count": null,
      "outputs": [
        {
          "output_type": "stream",
          "text": [
            "Model: \"sequential\"\n",
            "_________________________________________________________________\n",
            "Layer (type)                 Output Shape              Param #   \n",
            "=================================================================\n",
            "conv2d (Conv2D)              (None, 48, 48, 64)        640       \n",
            "_________________________________________________________________\n",
            "batch_normalization (BatchNo (None, 48, 48, 64)        256       \n",
            "_________________________________________________________________\n",
            "activation (Activation)      (None, 48, 48, 64)        0         \n",
            "_________________________________________________________________\n",
            "max_pooling2d (MaxPooling2D) (None, 24, 24, 64)        0         \n",
            "_________________________________________________________________\n",
            "dropout (Dropout)            (None, 24, 24, 64)        0         \n",
            "_________________________________________________________________\n",
            "conv2d_1 (Conv2D)            (None, 24, 24, 128)       204928    \n",
            "_________________________________________________________________\n",
            "batch_normalization_1 (Batch (None, 24, 24, 128)       512       \n",
            "_________________________________________________________________\n",
            "activation_1 (Activation)    (None, 24, 24, 128)       0         \n",
            "_________________________________________________________________\n",
            "max_pooling2d_1 (MaxPooling2 (None, 12, 12, 128)       0         \n",
            "_________________________________________________________________\n",
            "dropout_1 (Dropout)          (None, 12, 12, 128)       0         \n",
            "_________________________________________________________________\n",
            "conv2d_2 (Conv2D)            (None, 12, 12, 512)       590336    \n",
            "_________________________________________________________________\n",
            "batch_normalization_2 (Batch (None, 12, 12, 512)       2048      \n",
            "_________________________________________________________________\n",
            "activation_2 (Activation)    (None, 12, 12, 512)       0         \n",
            "_________________________________________________________________\n",
            "max_pooling2d_2 (MaxPooling2 (None, 6, 6, 512)         0         \n",
            "_________________________________________________________________\n",
            "dropout_2 (Dropout)          (None, 6, 6, 512)         0         \n",
            "_________________________________________________________________\n",
            "conv2d_3 (Conv2D)            (None, 6, 6, 512)         2359808   \n",
            "_________________________________________________________________\n",
            "batch_normalization_3 (Batch (None, 6, 6, 512)         2048      \n",
            "_________________________________________________________________\n",
            "activation_3 (Activation)    (None, 6, 6, 512)         0         \n",
            "_________________________________________________________________\n",
            "max_pooling2d_3 (MaxPooling2 (None, 3, 3, 512)         0         \n",
            "_________________________________________________________________\n",
            "dropout_3 (Dropout)          (None, 3, 3, 512)         0         \n",
            "_________________________________________________________________\n",
            "flatten (Flatten)            (None, 4608)              0         \n",
            "_________________________________________________________________\n",
            "dense (Dense)                (None, 256)               1179904   \n",
            "_________________________________________________________________\n",
            "batch_normalization_4 (Batch (None, 256)               1024      \n",
            "_________________________________________________________________\n",
            "activation_4 (Activation)    (None, 256)               0         \n",
            "_________________________________________________________________\n",
            "dropout_4 (Dropout)          (None, 256)               0         \n",
            "_________________________________________________________________\n",
            "dense_1 (Dense)              (None, 512)               131584    \n",
            "_________________________________________________________________\n",
            "batch_normalization_5 (Batch (None, 512)               2048      \n",
            "_________________________________________________________________\n",
            "activation_5 (Activation)    (None, 512)               0         \n",
            "_________________________________________________________________\n",
            "dropout_5 (Dropout)          (None, 512)               0         \n",
            "_________________________________________________________________\n",
            "dense_2 (Dense)              (None, 7)                 3591      \n",
            "=================================================================\n",
            "Total params: 4,478,727\n",
            "Trainable params: 4,474,759\n",
            "Non-trainable params: 3,968\n",
            "_________________________________________________________________\n"
          ],
          "name": "stdout"
        }
      ]
    },
    {
      "cell_type": "code",
      "metadata": {
        "id": "vkL-qFmwR2PI"
      },
      "source": [
        "model.compile(loss='categorical_crossentropy',\n",
        "              optimizer=Adam(learning_rate=0.0005, beta_1=0.9, beta_2=0.999, epsilon=1e-7),\n",
        "              metrics=['accuracy'])"
      ],
      "execution_count": null,
      "outputs": []
    },
    {
      "cell_type": "code",
      "metadata": {
        "id": "s784kgbqK2zf"
      },
      "source": [
        "lrr = ReduceLROnPlateau(monitor='val_accuracy', factor=0.1, patience=3, min_lr=0.00001, min_delta=0.0001, model='auto', verbose=1)\n",
        "es = EarlyStopping(monitor='val_accuracy', min_delta=0, patience=10, verbose=1, mode='auto')\n",
        "mc = ModelCheckpoint(DRIVE_PATH+PROJECT_PATH+'/data_from_notebook/model_F.h5', monitor='val_accuracy', verbose=1, mode='max' , save_best_only=True)"
      ],
      "execution_count": null,
      "outputs": []
    },
    {
      "cell_type": "code",
      "metadata": {
        "id": "sGCt7J1NRiZ9"
      },
      "source": [
        "# H = model.fit_generator(sample(df_1, epoch=1500),\n",
        "#                         steps_per_epoch=10,\n",
        "#                         epochs=1500,\n",
        "#                         verbose=1,\n",
        "#                         validation_data=sample(df_2, epoch=1500),\n",
        "#                         validation_steps=5,\n",
        "#                         shuffle=True,\n",
        "#                         callbacks=[mc])"
      ],
      "execution_count": null,
      "outputs": []
    },
    {
      "cell_type": "code",
      "metadata": {
        "colab": {
          "base_uri": "https://localhost:8080/"
        },
        "id": "3KiXdBXhOijm",
        "outputId": "46c5ece3-4818-4fa3-ddba-1900ecd0a113"
      },
      "source": [
        "H = model.fit(np.array(X_train), np.array(y_train),\n",
        "              batch_size=batch_size,\n",
        "              validation_data=(np.array(X_valid), np.array(y_valid)),\n",
        "              epochs=80,\n",
        "              verbose=1,\n",
        "              shuffle=True,\n",
        "              callbacks=[mc,lrr,es])"
      ],
      "execution_count": null,
      "outputs": [
        {
          "output_type": "stream",
          "text": [
            "Epoch 1/80\n",
            "228/228 [==============================] - 53s 97ms/step - loss: 1.8351 - accuracy: 0.2966 - val_loss: 1.7667 - val_accuracy: 0.3542\n",
            "\n",
            "Epoch 00001: val_accuracy improved from -inf to 0.35418, saving model to /content/drive/MyDrive/FINAL YEAR PROJECT/data_from_notebook/model_F.h5\n",
            "Epoch 2/80\n",
            "228/228 [==============================] - 21s 93ms/step - loss: 1.5496 - accuracy: 0.4055 - val_loss: 1.5985 - val_accuracy: 0.4034\n",
            "\n",
            "Epoch 00002: val_accuracy improved from 0.35418 to 0.40341, saving model to /content/drive/MyDrive/FINAL YEAR PROJECT/data_from_notebook/model_F.h5\n",
            "Epoch 3/80\n",
            "228/228 [==============================] - 21s 93ms/step - loss: 1.3814 - accuracy: 0.4730 - val_loss: 1.3551 - val_accuracy: 0.4830\n",
            "\n",
            "Epoch 00003: val_accuracy improved from 0.40341 to 0.48297, saving model to /content/drive/MyDrive/FINAL YEAR PROJECT/data_from_notebook/model_F.h5\n",
            "Epoch 4/80\n",
            "228/228 [==============================] - 21s 93ms/step - loss: 1.2824 - accuracy: 0.5069 - val_loss: 1.2015 - val_accuracy: 0.5511\n",
            "\n",
            "Epoch 00004: val_accuracy improved from 0.48297 to 0.55108, saving model to /content/drive/MyDrive/FINAL YEAR PROJECT/data_from_notebook/model_F.h5\n",
            "Epoch 5/80\n",
            "228/228 [==============================] - 21s 93ms/step - loss: 1.2083 - accuracy: 0.5383 - val_loss: 1.2745 - val_accuracy: 0.5164\n",
            "\n",
            "Epoch 00005: val_accuracy did not improve from 0.55108\n",
            "Epoch 6/80\n",
            "228/228 [==============================] - 21s 93ms/step - loss: 1.1523 - accuracy: 0.5605 - val_loss: 1.1454 - val_accuracy: 0.5746\n",
            "\n",
            "Epoch 00006: val_accuracy improved from 0.55108 to 0.57461, saving model to /content/drive/MyDrive/FINAL YEAR PROJECT/data_from_notebook/model_F.h5\n",
            "Epoch 7/80\n",
            "228/228 [==============================] - 21s 94ms/step - loss: 1.1055 - accuracy: 0.5791 - val_loss: 1.1171 - val_accuracy: 0.5817\n",
            "\n",
            "Epoch 00007: val_accuracy improved from 0.57461 to 0.58173, saving model to /content/drive/MyDrive/FINAL YEAR PROJECT/data_from_notebook/model_F.h5\n",
            "Epoch 8/80\n",
            "228/228 [==============================] - 21s 93ms/step - loss: 1.0627 - accuracy: 0.5930 - val_loss: 1.1582 - val_accuracy: 0.5678\n",
            "\n",
            "Epoch 00008: val_accuracy did not improve from 0.58173\n",
            "Epoch 9/80\n",
            "228/228 [==============================] - 21s 93ms/step - loss: 1.0265 - accuracy: 0.6099 - val_loss: 1.3623 - val_accuracy: 0.4802\n",
            "\n",
            "Epoch 00009: val_accuracy did not improve from 0.58173\n",
            "Epoch 10/80\n",
            "228/228 [==============================] - 21s 93ms/step - loss: 0.9943 - accuracy: 0.6226 - val_loss: 1.1004 - val_accuracy: 0.5913\n",
            "\n",
            "Epoch 00010: val_accuracy improved from 0.58173 to 0.59133, saving model to /content/drive/MyDrive/FINAL YEAR PROJECT/data_from_notebook/model_F.h5\n",
            "Epoch 11/80\n",
            "228/228 [==============================] - 21s 93ms/step - loss: 0.9591 - accuracy: 0.6378 - val_loss: 1.1271 - val_accuracy: 0.5854\n",
            "\n",
            "Epoch 00011: val_accuracy did not improve from 0.59133\n",
            "Epoch 12/80\n",
            "228/228 [==============================] - 21s 93ms/step - loss: 0.9284 - accuracy: 0.6506 - val_loss: 1.0580 - val_accuracy: 0.6022\n",
            "\n",
            "Epoch 00012: val_accuracy improved from 0.59133 to 0.60217, saving model to /content/drive/MyDrive/FINAL YEAR PROJECT/data_from_notebook/model_F.h5\n",
            "Epoch 13/80\n",
            "228/228 [==============================] - 21s 94ms/step - loss: 0.8870 - accuracy: 0.6677 - val_loss: 1.0833 - val_accuracy: 0.6053\n",
            "\n",
            "Epoch 00013: val_accuracy improved from 0.60217 to 0.60526, saving model to /content/drive/MyDrive/FINAL YEAR PROJECT/data_from_notebook/model_F.h5\n",
            "Epoch 14/80\n",
            "228/228 [==============================] - 21s 93ms/step - loss: 0.8662 - accuracy: 0.6743 - val_loss: 1.0542 - val_accuracy: 0.6105\n",
            "\n",
            "Epoch 00014: val_accuracy improved from 0.60526 to 0.61053, saving model to /content/drive/MyDrive/FINAL YEAR PROJECT/data_from_notebook/model_F.h5\n",
            "Epoch 15/80\n",
            "228/228 [==============================] - 21s 93ms/step - loss: 0.8300 - accuracy: 0.6888 - val_loss: 1.1122 - val_accuracy: 0.6127\n",
            "\n",
            "Epoch 00015: val_accuracy improved from 0.61053 to 0.61269, saving model to /content/drive/MyDrive/FINAL YEAR PROJECT/data_from_notebook/model_F.h5\n",
            "Epoch 16/80\n",
            "228/228 [==============================] - 21s 93ms/step - loss: 0.7987 - accuracy: 0.6992 - val_loss: 1.0149 - val_accuracy: 0.6285\n",
            "\n",
            "Epoch 00016: val_accuracy improved from 0.61269 to 0.62848, saving model to /content/drive/MyDrive/FINAL YEAR PROJECT/data_from_notebook/model_F.h5\n",
            "Epoch 17/80\n",
            "228/228 [==============================] - 21s 93ms/step - loss: 0.7621 - accuracy: 0.7124 - val_loss: 1.1354 - val_accuracy: 0.6034\n",
            "\n",
            "Epoch 00017: val_accuracy did not improve from 0.62848\n",
            "Epoch 18/80\n",
            "228/228 [==============================] - 21s 93ms/step - loss: 0.7253 - accuracy: 0.7262 - val_loss: 1.0327 - val_accuracy: 0.6353\n",
            "\n",
            "Epoch 00018: val_accuracy improved from 0.62848 to 0.63529, saving model to /content/drive/MyDrive/FINAL YEAR PROJECT/data_from_notebook/model_F.h5\n",
            "Epoch 19/80\n",
            "228/228 [==============================] - 21s 94ms/step - loss: 0.6789 - accuracy: 0.7477 - val_loss: 1.0573 - val_accuracy: 0.6393\n",
            "\n",
            "Epoch 00019: val_accuracy improved from 0.63529 to 0.63932, saving model to /content/drive/MyDrive/FINAL YEAR PROJECT/data_from_notebook/model_F.h5\n",
            "Epoch 20/80\n",
            "228/228 [==============================] - 21s 93ms/step - loss: 0.6718 - accuracy: 0.7485 - val_loss: 1.1505 - val_accuracy: 0.5997\n",
            "\n",
            "Epoch 00020: val_accuracy did not improve from 0.63932\n",
            "Epoch 21/80\n",
            "228/228 [==============================] - 21s 93ms/step - loss: 0.6239 - accuracy: 0.7676 - val_loss: 1.0633 - val_accuracy: 0.6477\n",
            "\n",
            "Epoch 00021: val_accuracy improved from 0.63932 to 0.64768, saving model to /content/drive/MyDrive/FINAL YEAR PROJECT/data_from_notebook/model_F.h5\n",
            "Epoch 22/80\n",
            "228/228 [==============================] - 21s 93ms/step - loss: 0.6036 - accuracy: 0.7760 - val_loss: 1.0370 - val_accuracy: 0.6495\n",
            "\n",
            "Epoch 00022: val_accuracy improved from 0.64768 to 0.64954, saving model to /content/drive/MyDrive/FINAL YEAR PROJECT/data_from_notebook/model_F.h5\n",
            "Epoch 23/80\n",
            "228/228 [==============================] - 21s 94ms/step - loss: 0.5683 - accuracy: 0.7901 - val_loss: 1.0823 - val_accuracy: 0.6489\n",
            "\n",
            "Epoch 00023: val_accuracy did not improve from 0.64954\n",
            "Epoch 24/80\n",
            "228/228 [==============================] - 21s 94ms/step - loss: 0.5443 - accuracy: 0.7970 - val_loss: 1.1031 - val_accuracy: 0.6483\n",
            "\n",
            "Epoch 00024: val_accuracy did not improve from 0.64954\n",
            "Epoch 25/80\n",
            "228/228 [==============================] - 21s 94ms/step - loss: 0.5112 - accuracy: 0.8080 - val_loss: 1.1705 - val_accuracy: 0.6229\n",
            "\n",
            "Epoch 00025: val_accuracy did not improve from 0.64954\n",
            "\n",
            "Epoch 00025: ReduceLROnPlateau reducing learning rate to 5.0000002374872565e-05.\n",
            "Epoch 26/80\n",
            "228/228 [==============================] - 21s 94ms/step - loss: 0.4244 - accuracy: 0.8463 - val_loss: 1.0579 - val_accuracy: 0.6666\n",
            "\n",
            "Epoch 00026: val_accuracy improved from 0.64954 to 0.66656, saving model to /content/drive/MyDrive/FINAL YEAR PROJECT/data_from_notebook/model_F.h5\n",
            "Epoch 27/80\n",
            "228/228 [==============================] - 21s 94ms/step - loss: 0.3972 - accuracy: 0.8563 - val_loss: 1.0640 - val_accuracy: 0.6697\n",
            "\n",
            "Epoch 00027: val_accuracy improved from 0.66656 to 0.66966, saving model to /content/drive/MyDrive/FINAL YEAR PROJECT/data_from_notebook/model_F.h5\n",
            "Epoch 28/80\n",
            "228/228 [==============================] - 21s 94ms/step - loss: 0.3796 - accuracy: 0.8613 - val_loss: 1.0657 - val_accuracy: 0.6663\n",
            "\n",
            "Epoch 00028: val_accuracy did not improve from 0.66966\n",
            "Epoch 29/80\n",
            "228/228 [==============================] - 21s 94ms/step - loss: 0.3706 - accuracy: 0.8679 - val_loss: 1.0858 - val_accuracy: 0.6712\n",
            "\n",
            "Epoch 00029: val_accuracy improved from 0.66966 to 0.67121, saving model to /content/drive/MyDrive/FINAL YEAR PROJECT/data_from_notebook/model_F.h5\n",
            "Epoch 30/80\n",
            "228/228 [==============================] - 21s 94ms/step - loss: 0.3567 - accuracy: 0.8694 - val_loss: 1.0864 - val_accuracy: 0.6693\n",
            "\n",
            "Epoch 00030: val_accuracy did not improve from 0.67121\n",
            "Epoch 31/80\n",
            "228/228 [==============================] - 21s 94ms/step - loss: 0.3512 - accuracy: 0.8736 - val_loss: 1.0964 - val_accuracy: 0.6712\n",
            "\n",
            "Epoch 00031: val_accuracy did not improve from 0.67121\n",
            "Epoch 32/80\n",
            "228/228 [==============================] - 21s 94ms/step - loss: 0.3374 - accuracy: 0.8781 - val_loss: 1.1081 - val_accuracy: 0.6684\n",
            "\n",
            "Epoch 00032: val_accuracy did not improve from 0.67121\n",
            "\n",
            "Epoch 00032: ReduceLROnPlateau reducing learning rate to 1e-05.\n",
            "Epoch 33/80\n",
            "228/228 [==============================] - 21s 94ms/step - loss: 0.3314 - accuracy: 0.8802 - val_loss: 1.1125 - val_accuracy: 0.6734\n",
            "\n",
            "Epoch 00033: val_accuracy improved from 0.67121 to 0.67337, saving model to /content/drive/MyDrive/FINAL YEAR PROJECT/data_from_notebook/model_F.h5\n",
            "Epoch 34/80\n",
            "228/228 [==============================] - 21s 94ms/step - loss: 0.3258 - accuracy: 0.8820 - val_loss: 1.1123 - val_accuracy: 0.6709\n",
            "\n",
            "Epoch 00034: val_accuracy did not improve from 0.67337\n",
            "Epoch 35/80\n",
            "228/228 [==============================] - 21s 94ms/step - loss: 0.3251 - accuracy: 0.8828 - val_loss: 1.1189 - val_accuracy: 0.6734\n",
            "\n",
            "Epoch 00035: val_accuracy did not improve from 0.67337\n",
            "Epoch 36/80\n",
            "228/228 [==============================] - 22s 96ms/step - loss: 0.3175 - accuracy: 0.8856 - val_loss: 1.1182 - val_accuracy: 0.6728\n",
            "\n",
            "Epoch 00036: val_accuracy did not improve from 0.67337\n",
            "Epoch 37/80\n",
            "228/228 [==============================] - 21s 94ms/step - loss: 0.3241 - accuracy: 0.8827 - val_loss: 1.1182 - val_accuracy: 0.6728\n",
            "\n",
            "Epoch 00037: val_accuracy did not improve from 0.67337\n",
            "Epoch 38/80\n",
            "228/228 [==============================] - 21s 93ms/step - loss: 0.3238 - accuracy: 0.8823 - val_loss: 1.1203 - val_accuracy: 0.6743\n",
            "\n",
            "Epoch 00038: val_accuracy improved from 0.67337 to 0.67430, saving model to /content/drive/MyDrive/FINAL YEAR PROJECT/data_from_notebook/model_F.h5\n",
            "Epoch 39/80\n",
            "228/228 [==============================] - 21s 94ms/step - loss: 0.3192 - accuracy: 0.8843 - val_loss: 1.1219 - val_accuracy: 0.6721\n",
            "\n",
            "Epoch 00039: val_accuracy did not improve from 0.67430\n",
            "Epoch 40/80\n",
            "228/228 [==============================] - 21s 94ms/step - loss: 0.3151 - accuracy: 0.8861 - val_loss: 1.1208 - val_accuracy: 0.6721\n",
            "\n",
            "Epoch 00040: val_accuracy did not improve from 0.67430\n",
            "Epoch 41/80\n",
            "228/228 [==============================] - 21s 93ms/step - loss: 0.3158 - accuracy: 0.8853 - val_loss: 1.1282 - val_accuracy: 0.6697\n",
            "\n",
            "Epoch 00041: val_accuracy did not improve from 0.67430\n",
            "Epoch 42/80\n",
            "228/228 [==============================] - 21s 94ms/step - loss: 0.3184 - accuracy: 0.8868 - val_loss: 1.1271 - val_accuracy: 0.6715\n",
            "\n",
            "Epoch 00042: val_accuracy did not improve from 0.67430\n",
            "Epoch 43/80\n",
            "228/228 [==============================] - 21s 94ms/step - loss: 0.3168 - accuracy: 0.8869 - val_loss: 1.1305 - val_accuracy: 0.6734\n",
            "\n",
            "Epoch 00043: val_accuracy did not improve from 0.67430\n",
            "Epoch 44/80\n",
            "228/228 [==============================] - 21s 94ms/step - loss: 0.3058 - accuracy: 0.8907 - val_loss: 1.1338 - val_accuracy: 0.6700\n",
            "\n",
            "Epoch 00044: val_accuracy did not improve from 0.67430\n",
            "Epoch 45/80\n",
            "228/228 [==============================] - 21s 93ms/step - loss: 0.3112 - accuracy: 0.8848 - val_loss: 1.1357 - val_accuracy: 0.6715\n",
            "\n",
            "Epoch 00045: val_accuracy did not improve from 0.67430\n",
            "Epoch 46/80\n",
            "228/228 [==============================] - 21s 94ms/step - loss: 0.3106 - accuracy: 0.8880 - val_loss: 1.1393 - val_accuracy: 0.6693\n",
            "\n",
            "Epoch 00046: val_accuracy did not improve from 0.67430\n",
            "Epoch 47/80\n",
            "228/228 [==============================] - 21s 93ms/step - loss: 0.3069 - accuracy: 0.8882 - val_loss: 1.1374 - val_accuracy: 0.6703\n",
            "\n",
            "Epoch 00047: val_accuracy did not improve from 0.67430\n",
            "Epoch 48/80\n",
            "228/228 [==============================] - 21s 94ms/step - loss: 0.3028 - accuracy: 0.8893 - val_loss: 1.1410 - val_accuracy: 0.6731\n",
            "\n",
            "Epoch 00048: val_accuracy did not improve from 0.67430\n",
            "Epoch 00048: early stopping\n"
          ],
          "name": "stdout"
        }
      ]
    },
    {
      "cell_type": "markdown",
      "metadata": {
        "id": "A7ytQhDjdIUM"
      },
      "source": [
        "### Holdout Method for validation\n",
        "We check the accuracy of our current model, using the test set, which was kept separate from the training and validation set, that is, the model is unaware of the data present in the test set."
      ]
    },
    {
      "cell_type": "code",
      "metadata": {
        "id": "4WV4El-aRs6F",
        "colab": {
          "base_uri": "https://localhost:8080/"
        },
        "outputId": "b04dc8b9-48df-4f8e-fb13-26b316ea356e"
      },
      "source": [
        "# Holdout Validation using unseen data, ie, test dataset\n",
        "scores = model.evaluate(np.array(X_test), np.array(y_test), batch_size=64)\n",
        "\n",
        "print(\"Holdout Method of Validation Scores:\")\n",
        "print(\"Loss: {:.4f}\".format(scores[0]))\n",
        "print(\"Accuracy: {:.2f}%\".format(scores[1] * 100))\n",
        "\n",
        "# Saving the  model to be used later\n",
        "fer_json = model.to_json()\n",
        "with open(DRIVE_PATH+PROJECT_PATH+'/data_from_notebook/fer_F.json', \"w\") as json_file:\n",
        "    json_file.write(fer_json)\n",
        "model.save_weights(DRIVE_PATH+PROJECT_PATH+\"/data_from_notebook/model_weights_F.h5\")\n",
        "print(\"Saved model to disk\")"
      ],
      "execution_count": null,
      "outputs": [
        {
          "output_type": "stream",
          "text": [
            "57/57 [==============================] - 1s 21ms/step - loss: 1.1893 - accuracy: 0.6576\n",
            "Holdout Method of Validation Scores:\n",
            "Loss: 1.1893\n",
            "Accuracy: 65.76%\n",
            "Saved model to disk\n"
          ],
          "name": "stdout"
        }
      ]
    },
    {
      "cell_type": "code",
      "metadata": {
        "colab": {
          "base_uri": "https://localhost:8080/",
          "height": 573
        },
        "id": "52rvse8uM4eZ",
        "outputId": "732ab11d-bc2e-4836-a913-d32ff4b996dd"
      },
      "source": [
        "plt.plot(H.history['accuracy'])\n",
        "plt.plot(H.history['val_accuracy'])\n",
        "plt.title('model accuracy')\n",
        "plt.ylabel('accuracy')\n",
        "plt.xlabel('epoch')\n",
        "plt.legend(['train', 'test'], loc='upper left')\n",
        "plt.show()\n",
        "# summarize history for loss\n",
        "plt.plot(H.history['loss'])\n",
        "plt.plot(H.history['val_loss'])\n",
        "plt.title('model loss')\n",
        "plt.ylabel('loss')\n",
        "plt.xlabel('epoch')\n",
        "plt.legend(['train', 'test'], loc='upper right')\n",
        "plt.show()"
      ],
      "execution_count": null,
      "outputs": [
        {
          "output_type": "display_data",
          "data": {
            "image/png": "[encoded data removed]",
            "text/plain": [
              "<Figure size 432x288 with 1 Axes>"
            ]
          },
          "metadata": {
            "tags": [],
            "needs_background": "light"
          }
        },
        {
          "output_type": "display_data",
          "data": {
            "image/png": "[encoded data removed]",
            "text/plain": [
              "<Figure size 432x288 with 1 Axes>"
            ]
          },
          "metadata": {
            "tags": [],
            "needs_background": "light"
          }
        }
      ]
    },
    {
      "cell_type": "code",
      "metadata": {
        "colab": {
          "base_uri": "https://localhost:8080/",
          "height": 295
        },
        "id": "NijitUkeQC1F",
        "outputId": "f5d085b5-89fa-44cf-e346-80e07eef8476"
      },
      "source": [
        "h_acc = H.history['accuracy']\n",
        "h_val_acc = H.history['val_accuracy']\n",
        "frame = 5\n",
        "av_acc = [np.mean(h_acc[x:x+frame]) for x in range(len(h_acc) - frame)]\n",
        "av_val_acc = [np.mean(h_val_acc[x:x+frame]) for x in range(len(h_val_acc) - frame)]\n",
        "plt.plot(av_acc)\n",
        "plt.plot(av_val_acc)\n",
        "plt.xlabel('epoch')\n",
        "plt.ylabel('accuracy')\n",
        "plt.legend(['train', 'test'], loc='upper left')\n",
        "plt.title('model accuracy')\n",
        "plt.show()"
      ],
      "execution_count": null,
      "outputs": [
        {
          "output_type": "display_data",
          "data": {
            "image/png": "[encoded data removed]",
            "text/plain": [
              "<Figure size 432x288 with 1 Axes>"
            ]
          },
          "metadata": {
            "tags": [],
            "needs_background": "light"
          }
        }
      ]
    },
    {
      "cell_type": "markdown",
      "metadata": {
        "id": "qqFnxC1ldVO4"
      },
      "source": [
        "### Confusion matrix\n",
        "We display the confusion matrix of size N x N, for evaluating the performance of a classification model, where N is the number of target classes. The matrix compares the actual target values with those predicted by the machine learning model. \n"
      ]
    },
    {
      "cell_type": "code",
      "metadata": {
        "colab": {
          "base_uri": "https://localhost:8080/",
          "height": 756
        },
        "id": "-ERNFDCpNO-p",
        "outputId": "cf7aeae6-3ece-408a-d89d-59d68c83b7b1"
      },
      "source": [
        "yhat_valid = model.predict_classes(X_test)\n",
        "scikitplot.metrics.plot_confusion_matrix(np.argmax(y_test, axis=1), yhat_valid, figsize=(7,7))\n",
        "plt.savefig(DRIVE_PATH+PROJECT_PATH+\"/data_from_notebook/confusion_matrix_F.png\")\n",
        "\n",
        "print(f'total wrong validation predictions: {np.sum(np.argmax(y_test, axis=1) != yhat_valid)}\\n\\n')\n",
        "print(classification_report(np.argmax(y_test, axis=1), yhat_valid))"
      ],
      "execution_count": null,
      "outputs": [
        {
          "output_type": "stream",
          "text": [
            "/usr/local/lib/python3.7/dist-packages/tensorflow/python/keras/engine/sequential.py:455: UserWarning: `model.predict_classes()` is deprecated and will be removed after 2021-01-01. Please use instead:* `np.argmax(model.predict(x), axis=-1)`,   if your model does multi-class classification   (e.g. if it uses a `softmax` last-layer activation).* `(model.predict(x) > 0.5).astype(\"int32\")`,   if your model does binary classification   (e.g. if it uses a `sigmoid` last-layer activation).\n",
            "  warnings.warn('`model.predict_classes()` is deprecated and '\n"
          ],
          "name": "stderr"
        },
        {
          "output_type": "stream",
          "text": [
            "total wrong validation predictions: 1229\n",
            "\n",
            "\n",
            "              precision    recall  f1-score   support\n",
            "\n",
            "           0       0.58      0.55      0.56       498\n",
            "           1       0.74      0.56      0.64        52\n",
            "           2       0.60      0.47      0.53       545\n",
            "           3       0.83      0.86      0.84       881\n",
            "           4       0.50      0.57      0.53       588\n",
            "           5       0.79      0.76      0.77       414\n",
            "           6       0.59      0.65      0.62       611\n",
            "\n",
            "    accuracy                           0.66      3589\n",
            "   macro avg       0.66      0.63      0.64      3589\n",
            "weighted avg       0.66      0.66      0.66      3589\n",
            "\n"
          ],
          "name": "stdout"
        },
        {
          "output_type": "display_data",
          "data": {
            "image/png": "[encoded data removed]",
            "text/plain": [
              "<Figure size 504x504 with 2 Axes>"
            ]
          },
          "metadata": {
            "tags": [],
            "needs_background": "light"
          }
        }
      ]
    },
    {
      "cell_type": "markdown",
      "metadata": {
        "id": "SB99UVTydkZY"
      },
      "source": [
        "### Overall Accuracy and Class-wise accuracy\n",
        "This confusion matrix gives us a holistic view of how well our classification model is performing and what kinds of errors it is making. We also display the number of wrong validation predictions.\n",
        "\n",
        "\\begin{array}{rcl} \\text{Accuracy} & = & \\dfrac{\\text{Number of correct predictions}}{\\text{Total number of predictions}} \\\\ \\end{array}\n",
        "\n",
        "We will find the total number of correct predictions over the diagonal of the confusion matrix and the total number of predictions by adding the summation of the number of predictions over each column.\n",
        "Here, we display the percentage accuracy of each class, predicted by our model, based on the test set."
      ]
    },
    {
      "cell_type": "code",
      "metadata": {
        "colab": {
          "base_uri": "https://localhost:8080/"
        },
        "id": "MJ7ZPTo_NlMS",
        "outputId": "6597d57e-c1df-425e-fbbb-a1fd6e77489c"
      },
      "source": [
        "from sklearn.metrics import confusion_matrix\n",
        "\n",
        "cm = confusion_matrix(np.argmax(y_test, axis=1), yhat_valid)\n",
        "print(\"Overall accuracy: {:.2f}%\".format(100*sum(cm.diagonal())/y_test.shape[0]))\n",
        "\n",
        "cm = (cm.astype('float') / cm.sum(axis=1))\n",
        "class_wise = cm.diagonal() * 100\n",
        "\n",
        "np.set_printoptions(precision=3)\n",
        "print(\"\\nConfusion matrix [TP. / Total number of data of that class]:\\n\",np.array(cm),\"\\n\")\n",
        "\n",
        "np.set_printoptions(precision=2)\n",
        "print(\"Class-wise accuracy: {}\".format(np.array(class_wise)))"
      ],
      "execution_count": null,
      "outputs": [
        {
          "output_type": "stream",
          "text": [
            "Overall accuracy: 65.76%\n",
            "\n",
            "Confusion matrix [TP. / Total number of data of that class]:\n",
            " [[0.548 0.135 0.075 0.04  0.107 0.034 0.106]\n",
            " [0.026 0.558 0.004 0.002 0.009 0.    0.002]\n",
            " [0.102 0.    0.47  0.023 0.206 0.121 0.077]\n",
            " [0.036 0.    0.026 0.862 0.056 0.027 0.075]\n",
            " [0.143 0.019 0.105 0.028 0.566 0.002 0.164]\n",
            " [0.024 0.019 0.061 0.03  0.02  0.758 0.026]\n",
            " [0.072 0.019 0.046 0.058 0.162 0.017 0.648]] \n",
            "\n",
            "Class-wise accuracy: [54.82 55.77 46.97 86.15 56.63 75.85 64.81]\n"
          ],
          "name": "stdout"
        }
      ]
    },
    {
      "cell_type": "code",
      "metadata": {
        "colab": {
          "base_uri": "https://localhost:8080/",
          "height": 65
        },
        "id": "qW3dXFjGNzpi",
        "outputId": "66332159-d91f-4435-dc62-7167266d36a8"
      },
      "source": [
        "# Load image\n",
        "input_image_from_user_path = DRIVE_PATH + PROJECT_PATH + '/input/CK_dataset/fear/S999_003_00000055.png'\n",
        "cap = cv2.imread(input_image_from_user_path, 0)\n",
        "cv2_imshow(cap)"
      ],
      "execution_count": null,
      "outputs": [
        {
          "output_type": "display_data",
          "data": {
            "image/png": "[encoded data removed]",
            "text/plain": [
              "<PIL.Image.Image image mode=L size=48x48 at 0x7F07F0685B90>"
            ]
          },
          "metadata": {
            "tags": []
          }
        }
      ]
    },
    {
      "cell_type": "code",
      "metadata": {
        "colab": {
          "base_uri": "https://localhost:8080/"
        },
        "id": "oMccu6gQOBxq",
        "outputId": "09874fb3-f354-4ce0-b556-f88be3188f25"
      },
      "source": [
        "np.asarray(cap).shape"
      ],
      "execution_count": null,
      "outputs": [
        {
          "output_type": "execute_result",
          "data": {
            "text/plain": [
              "(48, 48)"
            ]
          },
          "metadata": {
            "tags": []
          },
          "execution_count": 50
        }
      ]
    },
    {
      "cell_type": "code",
      "metadata": {
        "id": "5AMcBZCeOE6q"
      },
      "source": [
        "face_cascade = cv2.CascadeClassifier(DRIVE_PATH + PROJECT_PATH + '/input/haarcascade_frontalface_alt.xml') "
      ],
      "execution_count": null,
      "outputs": []
    },
    {
      "cell_type": "code",
      "metadata": {
        "id": "W-_Bv-qAOHvT"
      },
      "source": [
        "face_coords = face_cascade.detectMultiScale(cap, scaleFactor=1.1, minNeighbors=3)"
      ],
      "execution_count": null,
      "outputs": []
    },
    {
      "cell_type": "code",
      "metadata": {
        "colab": {
          "base_uri": "https://localhost:8080/",
          "height": 65
        },
        "id": "VnhwWiRHOKK5",
        "outputId": "22e62150-cb2d-4a10-b393-9d86c60ae1c8"
      },
      "source": [
        "# fc_w, fc_h = face_coords[1][2], face_coords[1][3]\n",
        "for x, y, w, h in face_coords:\n",
        "    # if w == fc_w and h == fc_h:\n",
        "    cv2.rectangle(cap, (x,y), (x+w, y+h), (255, 0,0), thickness=2)\n",
        "\n",
        "cv2_imshow(cap)"
      ],
      "execution_count": null,
      "outputs": [
        {
          "output_type": "display_data",
          "data": {
            "image/png": "[encoded data removed]",
            "text/plain": [
              "<PIL.Image.Image image mode=L size=48x48 at 0x7F07F0658FD0>"
            ]
          },
          "metadata": {
            "tags": []
          }
        }
      ]
    },
    {
      "cell_type": "code",
      "metadata": {
        "colab": {
          "base_uri": "https://localhost:8080/"
        },
        "id": "TRhvdxb1OMka",
        "outputId": "c21dd16e-6876-4913-e867-ac86cc493d97"
      },
      "source": [
        "face_coords"
      ],
      "execution_count": null,
      "outputs": [
        {
          "output_type": "execute_result",
          "data": {
            "text/plain": [
              "array([[ 3,  3, 41, 41]], dtype=int32)"
            ]
          },
          "metadata": {
            "tags": []
          },
          "execution_count": 54
        }
      ]
    },
    {
      "cell_type": "code",
      "metadata": {
        "id": "dLDk020fOPNw"
      },
      "source": [
        "def image_croping(image, cropBox, boxScale=1):\n",
        "    # Crop a PIL image with the provided box [x(left), y(upper), w(width), h(height)]\n",
        "\n",
        "    # Calculate scale factors\n",
        "    xDelta=max(cropBox[2]*(boxScale-1),0)\n",
        "    yDelta=max(cropBox[3]*(boxScale-1),0)\n",
        "\n",
        "    # Convert cv box to PIL box [left, upper, right, lower]\n",
        "    PIL_box=[cropBox[0]-xDelta, cropBox[1]-yDelta, cropBox[0]+cropBox[2]+xDelta, cropBox[1]+cropBox[3]+yDelta]\n",
        "\n",
        "    # return type(image)\n",
        "    return image.crop(PIL_box)\n",
        "\n",
        "cropped_img = image_croping(im.fromarray(cap), face_coords[0])"
      ],
      "execution_count": null,
      "outputs": []
    },
    {
      "cell_type": "code",
      "metadata": {
        "colab": {
          "base_uri": "https://localhost:8080/",
          "height": 65
        },
        "id": "9D_S5pQ0ORsS",
        "outputId": "1eb1c8d2-80e8-4109-8abe-7205468bf9c7"
      },
      "source": [
        "cv2_imshow(cv2.resize(np.asarray(cropped_img.convert('L')), (48, 48)))"
      ],
      "execution_count": null,
      "outputs": [
        {
          "output_type": "display_data",
          "data": {
            "image/png": "[encoded data removed]",
            "text/plain": [
              "<PIL.Image.Image image mode=L size=48x48 at 0x7F07F0664AD0>"
            ]
          },
          "metadata": {
            "tags": []
          }
        }
      ]
    },
    {
      "cell_type": "code",
      "metadata": {
        "colab": {
          "base_uri": "https://localhost:8080/"
        },
        "id": "fYXG3_tQOf49",
        "outputId": "4103e4be-4d81-4692-bb14-bb554435d2c3"
      },
      "source": [
        "output_img = cv2.resize(np.asarray(cropped_img), (48, 48)).reshape(1, 48, 48, 1)\n",
        "# cv2_imshow(output_img)\n",
        "output_img.shape"
      ],
      "execution_count": null,
      "outputs": [
        {
          "output_type": "execute_result",
          "data": {
            "text/plain": [
              "(1, 48, 48, 1)"
            ]
          },
          "metadata": {
            "tags": []
          },
          "execution_count": 57
        }
      ]
    },
    {
      "cell_type": "code",
      "metadata": {
        "id": "9ndZO1Y1OTbi"
      },
      "source": [
        "emotion_dict = {0: \"Angry\", 1: \"Disgust\", 2: \"Fear\", 3: \"Happy\", 4: \"Sad\", 5: \"Surprise\", 6: \"Neutral\"}"
      ],
      "execution_count": null,
      "outputs": []
    },
    {
      "cell_type": "code",
      "metadata": {
        "colab": {
          "base_uri": "https://localhost:8080/"
        },
        "id": "Dhs_bVrXOWUR",
        "outputId": "5e460bce-5389-42a7-959c-63295b53a3f5"
      },
      "source": [
        "model_predict = model.predict(output_img)\n",
        "model_predict = [model_predict[0][i] * 100 for i in range(len(model_predict[0]))]\n",
        "prediction_class = np.argmax(model_predict)\n",
        "print(model_predict, emotion_dict[prediction_class])"
      ],
      "execution_count": null,
      "outputs": [
        {
          "output_type": "stream",
          "text": [
            "[1.0142973624169827, 0.07151853060349822, 86.44357323646545, 0.0030772880563745275, 10.904820263385773, 0.6192900240421295, 0.9434164501726627] Fear\n"
          ],
          "name": "stdout"
        }
      ]
    },
    {
      "cell_type": "code",
      "metadata": {
        "id": "41VjBcTQOZQQ"
      },
      "source": [
        ""
      ],
      "execution_count": null,
      "outputs": []
    }
  ]
}